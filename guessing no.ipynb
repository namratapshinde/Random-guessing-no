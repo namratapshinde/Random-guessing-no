{
 "cells": [
  {
   "cell_type": "code",
   "execution_count": null,
   "id": "19406d7c-4d65-446f-9ea8-2c81399e55e8",
   "metadata": {},
   "outputs": [],
   "source": [
    "import random\n",
    "i=1\n",
    "img=random.randint(1,10)\n",
    "while i<=3:\n",
    "    user=(int(input(\"guess the no between 1 to 10\")))\n",
    "    if user==img:\n",
    "        print(\"congrats , you win\")\n",
    "        break\n",
    "    elif user<img:\n",
    "        print(\"you select the min no\")\n",
    "    elif user>img:\n",
    "        print(\"you select max no\")\n",
    "    else:\n",
    "        print(\"wrong input\")\n",
    "    print(\"you have\",3-i,\"no of guesses\")\n",
    "    i+=1\n",
    "if i>3:\n",
    "    print(\"game over,soory\")"
   ]
  },
  {
   "cell_type": "code",
   "execution_count": null,
   "id": "58c70278-23c5-4337-9439-33a623a149c8",
   "metadata": {},
   "outputs": [],
   "source": []
  }
 ],
 "metadata": {
  "kernelspec": {
   "display_name": "Python 3 (ipykernel)",
   "language": "python",
   "name": "python3"
  },
  "language_info": {
   "codemirror_mode": {
    "name": "ipython",
    "version": 3
   },
   "file_extension": ".py",
   "mimetype": "text/x-python",
   "name": "python",
   "nbconvert_exporter": "python",
   "pygments_lexer": "ipython3",
   "version": "3.12.4"
  }
 },
 "nbformat": 4,
 "nbformat_minor": 5
}
